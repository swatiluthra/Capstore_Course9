{
 "cells": [
  {
   "cell_type": "markdown",
   "metadata": {},
   "source": [
    "## Analytics"
   ]
  },
  {
   "cell_type": "markdown",
   "metadata": {},
   "source": [
    "# The Battle of Neighborhoods (Week 1)"
   ]
  },
  {
   "cell_type": "markdown",
   "metadata": {},
   "source": [
    "## Introduction -[Business Problem Statement]"
   ]
  },
  {
   "cell_type": "markdown",
   "metadata": {},
   "source": [
    "Which neighborhood in Downtown Toronto is an optimal location to open a Chinese restaurant?\n",
    "\n",
    "Generally speaking, as an enterpreneur, the question can be put in an cost-benefit analytics framework, with fundamental rule of profit maximization. Answer to the question depends on the following sub-questions:\n",
    "\n",
    "1. ***Demand*** Which neighborhood has the most demands on Chinese cuisine? \n",
    "1. ***Supply*** Which neighborhood so far has the mildest competition regarding Chinese food?\n",
    "1. ***Market trends*** The infrastructure, supply chain, consumer preferences, transportation, neighborhood security, etc.\n",
    "\n",
    "Lets dive deeper for further analysis, one by one on each aspect."
   ]
  },
  {
   "cell_type": "markdown",
   "metadata": {},
   "source": [
    "### Demand"
   ]
  },
  {
   "cell_type": "markdown",
   "metadata": {},
   "source": [
    "From the perspective of demand side, customers that may bring profits to restaurant are likely to be composed of two parts, domestic demand and external demand\n",
    "\n",
    "- ***Domestic demand*** referes to local demands on Chinese food, mainly from inhabitants. Here are some candidate factors to take into consideration\n",
    "    - Domestic inhabitants\n",
    "    - Ethnic composition. It is safe to suppose that Asian decendents prefer Asian foods including Chinese cuisine\n",
    "    - Other structural factors such as age, gender, occupation, income, and so on \n",
    "\n",
    "    Due to data availability issues, in this assignment we only use the domestic inhabitants as a proxy to reflect domestic demand\n",
    "\n",
    "- ***External demand*** referes to demands on Chinese food from those who come to this area for a short-period, for the purporses like tour, business trip, friend-visiting, and so on\n",
    "\n",
    "    In this assignment, wee do not pay much attention to the external demand. The main reason is fixed effects: the neighborhoods we compare all locate in Toronto, a nice city attracting tourists from all over the world. It is safe to assume that tourists who come to Toronto may go everywhere and eat everywhere around the whole city. In that sense, neighborhoods do not differ much from each other"
   ]
  },
  {
   "cell_type": "markdown",
   "metadata": {},
   "source": [
    "### Supply"
   ]
  },
  {
   "cell_type": "markdown",
   "metadata": {},
   "source": [
    "The level of competition imposes obvious impacts on location choice of our restaurant, from the perspective of supply side. \n",
    "\n",
    "To put in more details, we assume that \n",
    "- the more restaurants there already exist in the neighborhood, the more supply there is, and the less attractive it is for our choice, and \n",
    "- of the total number of domestic restaurants, the more proportion of Italian cuisines, the less attractive it is, as well."
   ]
  },
  {
   "cell_type": "markdown",
   "metadata": {},
   "source": [
    "Update: From the demand side, we use number of inhabitants as a measurement, of domestic demand on Chinese restaurant. \n",
    "\n",
    "However, due to the unfamiliarity of Toronto's Boroughs and Neighborhoods, I am not able to find such data... The website [https://www.toronto.ca/city-government/data-research-maps/neighbourhoods-communities/neighbourhood-profiles/](https://www.toronto.ca/city-government/data-research-maps/neighbourhoods-communities/neighbourhood-profiles/) does not list data required."
   ]
  },
  {
   "cell_type": "markdown",
   "metadata": {},
   "source": [
    "### The Market trends"
   ]
  },
  {
   "cell_type": "markdown",
   "metadata": {},
   "source": [
    "It is an interesting topic to discuss what the growth trend of Canadian economy will look like in the following years, which may produce positive effect on restaurant profitability. Other factors include immigrants level and composition, infrastructural improvement, sightseeing changes, and so on. \n",
    "\n",
    "However, in order to keep our research focuses, in this assignment we do not pay much attention to that."
   ]
  },
  {
   "cell_type": "markdown",
   "metadata": {},
   "source": [
    "### Summary"
   ]
  },
  {
   "cell_type": "markdown",
   "metadata": {},
   "source": [
    "So we pay attention to the following factors, based on which to decide where to put our Chinese restaurant\n",
    "- number of restaurants, termed as `Restaurant`\n",
    "- decomposition of Chinese restaurants relative to all restaurants, termed as `ChnPercent`"
   ]
  },
  {
   "cell_type": "markdown",
   "metadata": {},
   "source": [
    "## Methodology"
   ]
  },
  {
   "cell_type": "markdown",
   "metadata": {},
   "source": [
    "The simple model could be written as \n",
    "$$ Attractiveness = F(ChnPercent)$$\n",
    "\n",
    "where\n",
    "- `Attractiveness` is our goal, used to measure whether it's a good idea to open the restaurant in this neighborhood\n",
    "- `ChnPercent` is the percentage of Chinese restaurants in this neighborhood, calculated as \n",
    "$$ ChnPercent = (\\text{number of Chinese restaurants}) / (\\text{total number of restaurants}) $$\n",
    "- For the sake of simplicity, we assume $F()$ is a linear function and $\\partial F / \\partial x < 0$, $\\partial^2 F / \\partial x^2 < 0$, $x = \\{ChnPercent \\}$."
   ]
  },
  {
   "cell_type": "markdown",
   "metadata": {},
   "source": [
    "## Data Description"
   ]
  },
  {
   "cell_type": "markdown",
   "metadata": {},
   "source": [
    "Sources of the previously mentioned data may be:\n",
    "\n",
    "- Population by Borough and Neighborhood. Statistics Bureau of Canada, UN Database.\n",
    "- Restaurants by number, style, and locations. Collection from Foursquare API\n"
   ]
  },
  {
   "cell_type": "markdown",
   "metadata": {},
   "source": [
    "To be conducted. Results are expected."
   ]
  },
  {
   "cell_type": "markdown",
   "metadata": {},
   "source": [
    "## Analytics-driven implications & Conclusions"
   ]
  },
  {
   "cell_type": "markdown",
   "metadata": {},
   "source": [
    "Based on the empirical results, this section answers the following questions:\n",
    "- Which neighborhood / Borough of Toronto is the best Choice for opening a new Chinese restaurant\n",
    "- What are the other risks / opportunities to pay attention to, regarding this enterpreneurship adventure?\n",
    "- TODOs in the following stage of research"
   ]
  }
 ],
 "metadata": {
  "kernelspec": {
   "display_name": "Python 3",
   "language": "python",
   "name": "python3"
  },
  "language_info": {
   "codemirror_mode": {
    "name": "ipython",
    "version": 3
   },
   "file_extension": ".py",
   "mimetype": "text/x-python",
   "name": "python",
   "nbconvert_exporter": "python",
   "pygments_lexer": "ipython3",
   "version": "3.6.7"
  }
 },
 "nbformat": 4,
 "nbformat_minor": 4
}
